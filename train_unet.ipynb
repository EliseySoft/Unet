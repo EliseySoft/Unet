{
 "cells": [
  {
   "cell_type": "code",
   "execution_count": 1,
   "metadata": {},
   "outputs": [],
   "source": [
    "import torch\n",
    "from torch import optim\n",
    "import torch.nn as nn\n",
    "import cv2\n",
    "from tqdm import tqdm\n",
    "import matplotlib.pyplot as plt\n",
    "import os\n",
    "from torch.utils.data import Dataset, DataLoader\n",
    "from sklearn.model_selection import train_test_split\n",
    "import albumentations as album\n",
    "from albumentations.pytorch.transforms import ToTensorV2\n",
    "import numpy as np\n",
    "from dataclasses import dataclass\n",
    "from unet_model import Unet"
   ]
  },
  {
   "cell_type": "code",
   "execution_count": 2,
   "metadata": {},
   "outputs": [],
   "source": [
    "model = Unet(in_channels=1, number_classes=1)\n",
    "# inputs = torch.randn([8, 1, 572, 572])\n",
    "# outputs = model(inputs)"
   ]
  },
  {
   "cell_type": "code",
   "execution_count": 3,
   "metadata": {},
   "outputs": [],
   "source": [
    "os.environ[\"CUDA_DEVICE_ORDER\"] = \"PCI_BUS_ID\"\n",
    "os.environ[\"CUDA_VISIBLE_DEVICES\"] = \"6\""
   ]
  },
  {
   "cell_type": "code",
   "execution_count": 4,
   "metadata": {},
   "outputs": [],
   "source": [
    "# create config class for further convenient use\n",
    "@dataclass\n",
    "class Config:\n",
    "    batch_size: int\n",
    "    epochs: int\n",
    "    lr: float\n",
    "    device: \"str\"\n",
    "\n",
    "device = \"cuda\" if torch.cuda.is_available() else \"cpu\"\n",
    "config = Config(batch_size=16, epochs=5, lr=1e-4, device=device)\n",
    "model = Unet(in_channels=3, number_classes=1)"
   ]
  },
  {
   "cell_type": "code",
   "execution_count": 5,
   "metadata": {},
   "outputs": [
    {
     "name": "stderr",
     "output_type": "stream",
     "text": [
      "801it [00:00, 1449.39it/s]"
     ]
    },
    {
     "name": "stdout",
     "output_type": "stream",
     "text": [
      "Len of images: 200\n",
      "Len of masks: 200\n"
     ]
    },
    {
     "name": "stderr",
     "output_type": "stream",
     "text": [
      "\n"
     ]
    }
   ],
   "source": [
    "# load data\n",
    "images, masks = [], []\n",
    "root = \"PH2Dataset\"\n",
    "for root, dirs, files in tqdm(os.walk(os.path.join(root, 'PH2 Dataset images'))):\n",
    "    if root.endswith('_Dermoscopic_Image'):\n",
    "        images.append(cv2.imread(os.path.join(root, files[0])))\n",
    "    if root.endswith('_lesion'):\n",
    "        masks.append(cv2.imread(os.path.join(root, files[0]), cv2.IMREAD_GRAYSCALE))\n",
    "print(f\"Len of images: {len(images)}\")\n",
    "print(f\"Len of masks: {len(masks)}\")"
   ]
  },
  {
   "cell_type": "code",
   "execution_count": 6,
   "metadata": {},
   "outputs": [],
   "source": [
    "# split data into train, val and test\n",
    "train_images, test_images, train_masks, test_masks = train_test_split(images, masks, test_size=0.1)\n",
    "train_images, val_images, train_masks, val_masks = train_test_split(train_images, train_masks, test_size=0.2)"
   ]
  },
  {
   "cell_type": "code",
   "execution_count": 7,
   "metadata": {},
   "outputs": [],
   "source": [
    "# create transforms to prepare data to train\n",
    "transforms = album.Compose([\n",
    "    album.Normalize(),\n",
    "    ToTensorV2()\n",
    "])"
   ]
  },
  {
   "cell_type": "code",
   "execution_count": 8,
   "metadata": {},
   "outputs": [],
   "source": [
    "# create custom Dataset for our simple task\n",
    "class PHDataset(Dataset):\n",
    "    def __init__(self, images, masks, transforms) -> None:\n",
    "        super().__init__()\n",
    "        self.images = images\n",
    "        self.masks = masks\n",
    "        self.transforms = transforms\n",
    "    \n",
    "    def __len__(self):\n",
    "        return len(self.images)\n",
    "    \n",
    "    def __getitem__(self, index):\n",
    "        image = self.images[index]\n",
    "        image = cv2.resize(image, (572, 572))\n",
    "        mask = self.masks[index] / 255\n",
    "        mask = cv2.resize(mask, (388, 388))\n",
    "        sample = self.transforms(image=image, mask=mask)\n",
    "\n",
    "        return sample"
   ]
  },
  {
   "cell_type": "code",
   "execution_count": 9,
   "metadata": {},
   "outputs": [],
   "source": [
    "# create train, val and test datasets\n",
    "train_dataset = PHDataset(train_images, train_masks, transforms)\n",
    "val_dataset = PHDataset(val_images, val_masks, transforms)\n",
    "test_dataset = PHDataset(test_images, test_masks, transforms)"
   ]
  },
  {
   "cell_type": "code",
   "execution_count": 10,
   "metadata": {},
   "outputs": [],
   "source": [
    "# create train, val, and test dataloader\n",
    "train_dataloader = DataLoader(train_dataset, batch_size=config.batch_size, shuffle=True)\n",
    "val_dataloader = DataLoader(val_dataset, batch_size=config.batch_size, shuffle=True)\n",
    "test_dataloader = DataLoader(test_dataset, batch_size=config.batch_size, shuffle=True)"
   ]
  },
  {
   "cell_type": "code",
   "execution_count": 11,
   "metadata": {},
   "outputs": [],
   "source": [
    "# smth like pl.Trainer :)\n",
    "class Trainer:\n",
    "    def __init__(self, model, train_dataloader, val_dataloader, test_dataloader, epochs, lr, device) -> None:\n",
    "        self.device = device\n",
    "        self.model = model.to(self.device)\n",
    "        self.train_dataloader = train_dataloader\n",
    "        self.val_dataloader = val_dataloader\n",
    "        self.test_dataloader = test_dataloader\n",
    "        self.epochs = epochs\n",
    "        self.lr = lr\n",
    "        self.optimizer = optim.Adam(self.model.parameters(), lr=self.lr)\n",
    "        self.lr_scheduler = optim.lr_scheduler.OneCycleLR(\n",
    "            optimizer=self.optimizer,\n",
    "            max_lr=self.lr,\n",
    "            total_steps=len(train_dataloader) * self.epochs + 3,\n",
    "            epochs=self.epochs,\n",
    "            div_factor=10\n",
    "        )\n",
    "        self.loss = nn.BCELoss()\n",
    "\n",
    "    def fit(self):\n",
    "        train_losses = []\n",
    "        val_losses = []\n",
    "        for epoch in range(self.epochs):\n",
    "            # ------------------------------------- TRAIN -------------------------------------\n",
    "            total_train_loss = 0\n",
    "            self.model.train()\n",
    "\n",
    "            print(f\"======== Epoch {epoch + 1} / {self.epochs + 1} ========\")\n",
    "            print(\"Training...\")\n",
    "\n",
    "            for batch in tqdm(self.train_dataloader):\n",
    "                images = batch[\"image\"].to(self.device)\n",
    "                target = batch[\"mask\"].to(self.device).unsqueeze(1)\n",
    "\n",
    "                self.model.zero_grad()\n",
    "\n",
    "                outputs = self.model(images)\n",
    "                \n",
    "                train_loss = self.loss(outputs, target.float())\n",
    "                total_train_loss += train_loss.item()\n",
    "                train_loss.backward()\n",
    "\n",
    "                # torch.nn.utils.clip_grad_norm_(self.model.parameters(), 1.0)\n",
    "                self.optimizer.step()\n",
    "                # self.lr_scheduler.step()\n",
    "            \n",
    "            avg_train_loss = total_train_loss / len(self.train_dataloader)\n",
    "            print(f\"Average training loss: {avg_train_loss:.4f}\")\n",
    "\n",
    "            # ------------------------------------- VALIDATION -------------------------------------\n",
    "            print(\"Running validation...\")\n",
    "            total_val_loss = 0\n",
    "            self.model.eval()\n",
    "\n",
    "            for batch in tqdm(self.val_dataloader):\n",
    "                images = batch[\"image\"].to(self.device)\n",
    "                target = batch[\"mask\"].to(self.device).unsqueeze(1)\n",
    "\n",
    "                with torch.no_grad():\n",
    "                    outputs = self.model(images)\n",
    "                \n",
    "                val_loss = self.loss(outputs, target.float())\n",
    "                total_val_loss += val_loss.item()\n",
    "            \n",
    "            avg_val_loss = total_val_loss / len(self.val_dataloader)\n",
    "            print(f\"Average validation loss: {avg_val_loss:.4f}\")\n",
    "\n",
    "            train_losses.append(avg_train_loss)\n",
    "            val_losses.append(avg_val_loss)\n",
    "        \n",
    "        return train_losses, val_losses"
   ]
  },
  {
   "cell_type": "code",
   "execution_count": 14,
   "metadata": {},
   "outputs": [],
   "source": [
    "trainer = Trainer(\n",
    "    model=model,\n",
    "    train_dataloader=train_dataloader,\n",
    "    val_dataloader=val_dataloader,\n",
    "    test_dataloader=test_dataloader,\n",
    "    epochs=10,\n",
    "    lr=5e-4,\n",
    "    device=config.device\n",
    ")"
   ]
  },
  {
   "cell_type": "code",
   "execution_count": 15,
   "metadata": {},
   "outputs": [
    {
     "name": "stdout",
     "output_type": "stream",
     "text": [
      "======== Epoch 1 / 11 ========\n",
      "Training...\n"
     ]
    },
    {
     "name": "stderr",
     "output_type": "stream",
     "text": [
      "100%|██████████| 9/9 [00:03<00:00,  2.77it/s]\n"
     ]
    },
    {
     "name": "stdout",
     "output_type": "stream",
     "text": [
      "Average training loss: 0.5257\n",
      "Running validation...\n"
     ]
    },
    {
     "name": "stderr",
     "output_type": "stream",
     "text": [
      "100%|██████████| 3/3 [00:00<00:00,  4.83it/s]\n"
     ]
    },
    {
     "name": "stdout",
     "output_type": "stream",
     "text": [
      "Average validation loss: 0.5840\n",
      "======== Epoch 2 / 11 ========\n",
      "Training...\n"
     ]
    },
    {
     "name": "stderr",
     "output_type": "stream",
     "text": [
      "100%|██████████| 9/9 [00:03<00:00,  2.79it/s]\n"
     ]
    },
    {
     "name": "stdout",
     "output_type": "stream",
     "text": [
      "Average training loss: 0.4776\n",
      "Running validation...\n"
     ]
    },
    {
     "name": "stderr",
     "output_type": "stream",
     "text": [
      "100%|██████████| 3/3 [00:00<00:00,  4.86it/s]\n"
     ]
    },
    {
     "name": "stdout",
     "output_type": "stream",
     "text": [
      "Average validation loss: 0.4593\n",
      "======== Epoch 3 / 11 ========\n",
      "Training...\n"
     ]
    },
    {
     "name": "stderr",
     "output_type": "stream",
     "text": [
      "100%|██████████| 9/9 [00:03<00:00,  2.79it/s]\n"
     ]
    },
    {
     "name": "stdout",
     "output_type": "stream",
     "text": [
      "Average training loss: 0.4438\n",
      "Running validation...\n"
     ]
    },
    {
     "name": "stderr",
     "output_type": "stream",
     "text": [
      "100%|██████████| 3/3 [00:00<00:00,  4.90it/s]\n"
     ]
    },
    {
     "name": "stdout",
     "output_type": "stream",
     "text": [
      "Average validation loss: 0.4055\n",
      "======== Epoch 4 / 11 ========\n",
      "Training...\n"
     ]
    },
    {
     "name": "stderr",
     "output_type": "stream",
     "text": [
      "100%|██████████| 9/9 [00:03<00:00,  2.79it/s]\n"
     ]
    },
    {
     "name": "stdout",
     "output_type": "stream",
     "text": [
      "Average training loss: 0.4158\n",
      "Running validation...\n"
     ]
    },
    {
     "name": "stderr",
     "output_type": "stream",
     "text": [
      "100%|██████████| 3/3 [00:00<00:00,  4.77it/s]\n"
     ]
    },
    {
     "name": "stdout",
     "output_type": "stream",
     "text": [
      "Average validation loss: 0.4929\n",
      "======== Epoch 5 / 11 ========\n",
      "Training...\n"
     ]
    },
    {
     "name": "stderr",
     "output_type": "stream",
     "text": [
      "100%|██████████| 9/9 [00:03<00:00,  2.78it/s]\n"
     ]
    },
    {
     "name": "stdout",
     "output_type": "stream",
     "text": [
      "Average training loss: 0.3921\n",
      "Running validation...\n"
     ]
    },
    {
     "name": "stderr",
     "output_type": "stream",
     "text": [
      "100%|██████████| 3/3 [00:00<00:00,  4.83it/s]\n"
     ]
    },
    {
     "name": "stdout",
     "output_type": "stream",
     "text": [
      "Average validation loss: 0.4019\n",
      "======== Epoch 6 / 11 ========\n",
      "Training...\n"
     ]
    },
    {
     "name": "stderr",
     "output_type": "stream",
     "text": [
      "100%|██████████| 9/9 [00:03<00:00,  2.78it/s]\n"
     ]
    },
    {
     "name": "stdout",
     "output_type": "stream",
     "text": [
      "Average training loss: 0.3872\n",
      "Running validation...\n"
     ]
    },
    {
     "name": "stderr",
     "output_type": "stream",
     "text": [
      "100%|██████████| 3/3 [00:00<00:00,  4.86it/s]\n"
     ]
    },
    {
     "name": "stdout",
     "output_type": "stream",
     "text": [
      "Average validation loss: 0.3524\n",
      "======== Epoch 7 / 11 ========\n",
      "Training...\n"
     ]
    },
    {
     "name": "stderr",
     "output_type": "stream",
     "text": [
      "100%|██████████| 9/9 [00:03<00:00,  2.76it/s]\n"
     ]
    },
    {
     "name": "stdout",
     "output_type": "stream",
     "text": [
      "Average training loss: 0.3597\n",
      "Running validation...\n"
     ]
    },
    {
     "name": "stderr",
     "output_type": "stream",
     "text": [
      "100%|██████████| 3/3 [00:00<00:00,  4.73it/s]\n"
     ]
    },
    {
     "name": "stdout",
     "output_type": "stream",
     "text": [
      "Average validation loss: 0.4225\n",
      "======== Epoch 8 / 11 ========\n",
      "Training...\n"
     ]
    },
    {
     "name": "stderr",
     "output_type": "stream",
     "text": [
      "100%|██████████| 9/9 [00:03<00:00,  2.79it/s]\n"
     ]
    },
    {
     "name": "stdout",
     "output_type": "stream",
     "text": [
      "Average training loss: 0.3632\n",
      "Running validation...\n"
     ]
    },
    {
     "name": "stderr",
     "output_type": "stream",
     "text": [
      "100%|██████████| 3/3 [00:00<00:00,  4.88it/s]\n"
     ]
    },
    {
     "name": "stdout",
     "output_type": "stream",
     "text": [
      "Average validation loss: 0.3365\n",
      "======== Epoch 9 / 11 ========\n",
      "Training...\n"
     ]
    },
    {
     "name": "stderr",
     "output_type": "stream",
     "text": [
      "100%|██████████| 9/9 [00:03<00:00,  2.78it/s]\n"
     ]
    },
    {
     "name": "stdout",
     "output_type": "stream",
     "text": [
      "Average training loss: 0.3655\n",
      "Running validation...\n"
     ]
    },
    {
     "name": "stderr",
     "output_type": "stream",
     "text": [
      "100%|██████████| 3/3 [00:00<00:00,  4.87it/s]\n"
     ]
    },
    {
     "name": "stdout",
     "output_type": "stream",
     "text": [
      "Average validation loss: 0.3579\n",
      "======== Epoch 10 / 11 ========\n",
      "Training...\n"
     ]
    },
    {
     "name": "stderr",
     "output_type": "stream",
     "text": [
      "100%|██████████| 9/9 [00:03<00:00,  2.79it/s]\n"
     ]
    },
    {
     "name": "stdout",
     "output_type": "stream",
     "text": [
      "Average training loss: 0.3435\n",
      "Running validation...\n"
     ]
    },
    {
     "name": "stderr",
     "output_type": "stream",
     "text": [
      "100%|██████████| 3/3 [00:00<00:00,  4.79it/s]"
     ]
    },
    {
     "name": "stdout",
     "output_type": "stream",
     "text": [
      "Average validation loss: 0.3525\n"
     ]
    },
    {
     "name": "stderr",
     "output_type": "stream",
     "text": [
      "\n"
     ]
    }
   ],
   "source": [
    "training_stats = trainer.fit()"
   ]
  },
  {
   "cell_type": "code",
   "execution_count": 17,
   "metadata": {},
   "outputs": [
    {
     "data": {
      "text/plain": [
       "Text(0, 0.5, 'train_loss')"
      ]
     },
     "execution_count": 17,
     "metadata": {},
     "output_type": "execute_result"
    },
    {
     "data": {
      "image/png": "[encoded data removed]",
      "text/plain": [
       "<Figure size 640x480 with 1 Axes>"
      ]
     },
     "metadata": {},
     "output_type": "display_data"
    }
   ],
   "source": [
    "plt.plot(training_stats[0])\n",
    "plt.xticks(range(len(training_stats[0])))\n",
    "plt.xlabel(\"epoch\")\n",
    "plt.ylabel(\"train_loss\")"
   ]
  },
  {
   "cell_type": "code",
   "execution_count": 19,
   "metadata": {},
   "outputs": [
    {
     "data": {
      "image/png": "[encoded data removed]",
      "text/plain": [
       "<Figure size 640x480 with 1 Axes>"
      ]
     },
     "metadata": {},
     "output_type": "display_data"
    }
   ],
   "source": [
    "plt.plot(training_stats[1])\n",
    "plt.xticks(range(len(training_stats[1])))\n",
    "plt.xlabel(\"epoch\")\n",
    "plt.ylabel(\"val_loss\");"
   ]
  },
  {
   "cell_type": "code",
   "execution_count": null,
   "metadata": {},
   "outputs": [],
   "source": []
  }
 ],
 "metadata": {
  "kernelspec": {
   "display_name": "Python 3",
   "language": "python",
   "name": "python3"
  },
  "language_info": {
   "codemirror_mode": {
    "name": "ipython",
    "version": 3
   },
   "file_extension": ".py",
   "mimetype": "text/x-python",
   "name": "python",
   "nbconvert_exporter": "python",
   "pygments_lexer": "ipython3",
   "version": "3.9.16"
  },
  "orig_nbformat": 4
 },
 "nbformat": 4,
 "nbformat_minor": 2
}
